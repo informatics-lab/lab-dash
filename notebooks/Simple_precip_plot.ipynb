{
 "cells": [
  {
   "cell_type": "code",
   "execution_count": 4,
   "metadata": {},
   "outputs": [
    {
     "ename": "ModuleNotFoundError",
     "evalue": "No module named 'numpy'",
     "output_type": "error",
     "traceback": [
      "\u001b[0;31m---------------------------------------------------------------------------\u001b[0m",
      "\u001b[0;31mModuleNotFoundError\u001b[0m                       Traceback (most recent call last)",
      "\u001b[0;32m<ipython-input-4-2e37d8008cb9>\u001b[0m in \u001b[0;36m<module>\u001b[0;34m()\u001b[0m\n\u001b[1;32m      1\u001b[0m \u001b[0;32mimport\u001b[0m \u001b[0mos\u001b[0m\u001b[0;34m\u001b[0m\u001b[0m\n\u001b[0;32m----> 2\u001b[0;31m \u001b[0;32mimport\u001b[0m \u001b[0mnumpy\u001b[0m\u001b[0;34m\u001b[0m\u001b[0m\n\u001b[0m\u001b[1;32m      3\u001b[0m \u001b[0;32mimport\u001b[0m \u001b[0miris\u001b[0m\u001b[0;34m\u001b[0m\u001b[0m\n\u001b[1;32m      4\u001b[0m \u001b[0;32mimport\u001b[0m \u001b[0mmatplotlib\u001b[0m\u001b[0;34m\u001b[0m\u001b[0m\n\u001b[1;32m      5\u001b[0m \u001b[0mmatplotlib\u001b[0m\u001b[0;34m.\u001b[0m\u001b[0muse\u001b[0m\u001b[0;34m(\u001b[0m\u001b[0;34m'agg'\u001b[0m\u001b[0;34m)\u001b[0m\u001b[0;34m\u001b[0m\u001b[0m\n",
      "\u001b[0;31mModuleNotFoundError\u001b[0m: No module named 'numpy'"
     ]
    }
   ],
   "source": [
    "import os\n",
    "import numpy\n",
    "import iris\n",
    "import matplotlib\n",
    "matplotlib.use('agg')\n",
    "import matplotlib.pyplot\n",
    "import cartopy\n",
    "import cartopy.crs\n",
    "import bokeh\n",
    "import bokeh.layouts\n",
    "import datetime\n",
    "import bokeh.models\n",
    "import bokeh.plotting\n",
    "from bokeh.io import show, output_notebook, push_notebook\n",
    "output_notebook()"
   ]
  },
  {
   "cell_type": "code",
   "execution_count": 5,
   "metadata": {},
   "outputs": [],
   "source": [
    "def get_radar_colours():\n",
    "\n",
    "    \"\"\"Return dictionary of precip. colormap and normalisation.\"\"\"\n",
    "\n",
    "    radar_colours1 = [(220 / 255.0, 220 / 255.0, 220 / 255.0, 1.0),\n",
    "                      (122 / 255.0, 147 / 255.0, 212 / 255.0, 0.9),\n",
    "                      (82 / 255.0, 147 / 255.0, 212 / 255.0, 0.95),\n",
    "                      (39 / 255.0, 106 / 255.0, 188 / 255.0, 1.0),\n",
    "                      (31 / 555.0, 201 / 255.0, 26 / 255.0, 1.0),\n",
    "                      (253 / 255.0, 237 / 255.0, 57 / 255.0, 1.0),\n",
    "                      (245 / 255.0, 152 / 255.0, 0 / 255.0, 1.0),\n",
    "                      (235 / 255.0, 47 / 255.0, 26 / 255.0, 1.0),\n",
    "                      (254 / 255.0, 92 / 255.0, 252 / 255.0, 1.0),\n",
    "                      (255 / 255.0, 255 / 255.0, 255 / 255.0, 1.0)]\n",
    "\n",
    "    radar_levels = numpy.array(\n",
    "        [0.0, 0.1, 0.25, 0.5, 1.0, 2.0, 4.0, 8.0, 16.0, 32.0])\n",
    "    cmap_radar, norm_radar = matplotlib.colors.from_levels_and_colors(\n",
    "        radar_levels, radar_colours1, extend='max')\n",
    "    cmap_radar.set_name = 'radar'\n",
    "    \n",
    "    return {'cmap': cmap_radar, 'norm': norm_radar}"
   ]
  },
  {
   "cell_type": "code",
   "execution_count": 6,
   "metadata": {},
   "outputs": [],
   "source": [
    "def get_image_array_from_figure(fig):\n",
    "    \"\"\"\n",
    "    Get the RGB buffer from the matplotlib figure.\n",
    "    \"\"\"\n",
    "    fig.canvas.draw()\n",
    "    h, w = fig.canvas.get_width_height()\n",
    "    # print(' width={0}\\n height={1}'.format(w, h))\n",
    "\n",
    "    buf = numpy.fromstring(fig.canvas.tostring_argb(), dtype=numpy.uint8)\n",
    "    # print('buf shape', buf.shape)\n",
    "    buf.shape = (w, h, 4)\n",
    "\n",
    "    # canvas.tostring_argb give pixmap in ARGB mode. Roll the ALPHA channel to\n",
    "    # have it in RGBA mode\n",
    "    buf = numpy.roll(buf, 3, axis=2)\n",
    "    buf = numpy.flip(buf, axis=0)\n",
    "    return buf"
   ]
  },
  {
   "cell_type": "code",
   "execution_count": 7,
   "metadata": {},
   "outputs": [
    {
     "name": "stdout",
     "output_type": "stream",
     "text": [
      "create file paths\n"
     ]
    },
    {
     "ename": "FileNotFoundError",
     "evalue": "[Errno 2] No such file or directory: '/s3/stephen-sea-public-london/model_data'",
     "output_type": "error",
     "traceback": [
      "\u001b[0;31m---------------------------------------------------------------------------\u001b[0m",
      "\u001b[0;31mFileNotFoundError\u001b[0m                         Traceback (most recent call last)",
      "\u001b[0;32m<ipython-input-7-b60f6385b6b9>\u001b[0m in \u001b[0;36m<module>\u001b[0;34m()\u001b[0m\n\u001b[1;32m     12\u001b[0m \u001b[0mmodel_run_str\u001b[0m \u001b[0;34m=\u001b[0m \u001b[0;34m'20171208T1200'\u001b[0m\u001b[0;34m\u001b[0m\u001b[0m\n\u001b[1;32m     13\u001b[0m path_list1 = [os.path.join(base_dir,f1)\n\u001b[0;32m---> 14\u001b[0;31m                \u001b[0;32mfor\u001b[0m \u001b[0mf1\u001b[0m \u001b[0;32min\u001b[0m \u001b[0mos\u001b[0m\u001b[0;34m.\u001b[0m\u001b[0mlistdir\u001b[0m\u001b[0;34m(\u001b[0m\u001b[0mbase_dir\u001b[0m\u001b[0;34m)\u001b[0m\u001b[0;34m\u001b[0m\u001b[0m\n\u001b[0m\u001b[1;32m     15\u001b[0m                if model_run_str in f1]\n\u001b[1;32m     16\u001b[0m \u001b[0;34m\u001b[0m\u001b[0m\n",
      "\u001b[0;31mFileNotFoundError\u001b[0m: [Errno 2] No such file or directory: '/s3/stephen-sea-public-london/model_data'"
     ]
    }
   ],
   "source": [
    "# Load data\n",
    "SEA_REGION_DICT = {'indonesia': [-15.1, 1.0865, 99.875, 120.111],\n",
    "                   'malaysia': [-2.75, 10.7365, 95.25, 108.737],\n",
    "                   'phillipines': [3.1375, 21.349, 115.8, 131.987],\n",
    "                   'se_asia': [-18.0, 29.96, 90.0, 153.96],\n",
    "                   }\n",
    "data_bounds = SEA_REGION_DICT['se_asia']\n",
    "\n",
    "# create file paths\n",
    "print('create file paths')\n",
    "base_dir = '/s3/stephen-sea-public-london/model_data'\n",
    "model_run_str = '20171208T1200'\n",
    "path_list1 = [os.path.join(base_dir,f1)\n",
    "               for f1 in os.listdir(base_dir)\n",
    "               if model_run_str in f1]\n",
    "\n",
    "print('load cube for a particular variable and time from files: %s' % path_list1)\n",
    "stash_section1 = 4\n",
    "stash_item1 = 203\n",
    "selected_time = datetime.datetime(2017,12,9,10,30,0)\n",
    "cube_func1 = lambda cube1: \\\n",
    "    cube1.attributes['STASH'].section == \\\n",
    "    stash_section1 and \\\n",
    "    cube1.attributes['STASH'].item == \\\n",
    "    stash_item1 and \\\n",
    "    len(cube1.cell_methods) > 0\n",
    "\n",
    "cell_func_dict1 = {\n",
    "    'time': lambda cell1: abs(cell1.point - selected_time) < datetime.timedelta(seconds=1)}\n",
    "\n",
    "\n",
    "ic1 = iris.Constraint(cube_func=cube_func1)\n",
    "# ,\n",
    "#                       coord_values=cell_func_dict1)\n",
    "data_cube = iris.load_cube(path_list1[0], ic1)\n",
    "# data_cube.convert_units('kg-m-2-hour^-1')\n",
    "data_cube = data_cube * 60*60\n",
    "data_cube"
   ]
  },
  {
   "cell_type": "code",
   "execution_count": 8,
   "metadata": {},
   "outputs": [
    {
     "ename": "NameError",
     "evalue": "name 'data_cube' is not defined",
     "output_type": "error",
     "traceback": [
      "\u001b[0;31m---------------------------------------------------------------------------\u001b[0m",
      "\u001b[0;31mNameError\u001b[0m                                 Traceback (most recent call last)",
      "\u001b[0;32m<ipython-input-8-df3afed1e2a0>\u001b[0m in \u001b[0;36m<module>\u001b[0;34m()\u001b[0m\n\u001b[0;32m----> 1\u001b[0;31m \u001b[0mexample_cube\u001b[0m \u001b[0;34m=\u001b[0m \u001b[0mdata_cube\u001b[0m\u001b[0;34m[\u001b[0m\u001b[0;36m0\u001b[0m\u001b[0;34m]\u001b[0m\u001b[0;34m\u001b[0m\u001b[0m\n\u001b[0m\u001b[1;32m      2\u001b[0m \u001b[0mexample_cube\u001b[0m\u001b[0;34m.\u001b[0m\u001b[0mhas_lazy_data\u001b[0m\u001b[0;34m(\u001b[0m\u001b[0;34m)\u001b[0m\u001b[0;34m\u001b[0m\u001b[0m\n",
      "\u001b[0;31mNameError\u001b[0m: name 'data_cube' is not defined"
     ]
    }
   ],
   "source": [
    "example_cube = data_cube[0]\n",
    "example_cube.has_lazy_data()"
   ]
  },
  {
   "cell_type": "code",
   "execution_count": 9,
   "metadata": {},
   "outputs": [
    {
     "ename": "NameError",
     "evalue": "name 'data_cube' is not defined",
     "output_type": "error",
     "traceback": [
      "\u001b[0;31m---------------------------------------------------------------------------\u001b[0m",
      "\u001b[0;31mNameError\u001b[0m                                 Traceback (most recent call last)",
      "\u001b[0;32m<ipython-input-9-e586ff632cd7>\u001b[0m in \u001b[0;36m<module>\u001b[0;34m()\u001b[0m\n\u001b[1;32m     31\u001b[0m     \u001b[0;32mreturn\u001b[0m \u001b[0mcurrent_figure\u001b[0m\u001b[0;34m\u001b[0m\u001b[0m\n\u001b[1;32m     32\u001b[0m \u001b[0;34m\u001b[0m\u001b[0m\n\u001b[0;32m---> 33\u001b[0;31m \u001b[0mcurrent_figure\u001b[0m \u001b[0;34m=\u001b[0m \u001b[0mcreate_plot\u001b[0m\u001b[0;34m(\u001b[0m\u001b[0mdata_cube\u001b[0m\u001b[0;34m,\u001b[0m \u001b[0;36m0\u001b[0m\u001b[0;34m)\u001b[0m\u001b[0;34m\u001b[0m\u001b[0m\n\u001b[0m",
      "\u001b[0;31mNameError\u001b[0m: name 'data_cube' is not defined"
     ]
    }
   ],
   "source": [
    "def create_plot(cube, index):\n",
    "    print('create matplotlib plot')\n",
    "    plot_options = {}\n",
    "    plot_options['precipitation'] = get_radar_colours()\n",
    "    figure_name = 'test01'\n",
    "    current_figure = matplotlib.pyplot.figure(figure_name, figsize=(8.0, 6.0))\n",
    "    current_axes = \\\n",
    "        current_figure.add_subplot(\n",
    "            111,\n",
    "            projection=cartopy.crs.PlateCarree())\n",
    "\n",
    "    current_axes.coastlines(resolution='110m')\n",
    "    coords_lat = example_cube.coords('latitude')[0].points\n",
    "    coords_long = example_cube.coords('longitude')[0].points\n",
    "    current_var = 'precipitation'\n",
    "\n",
    "    main_plot = current_axes.pcolormesh(coords_long,\n",
    "                                     coords_lat,\n",
    "                                     example_cube.data,\n",
    "                                     cmap=plot_options[current_var]['cmap'],\n",
    "                                     norm=plot_options[current_var]['norm'],\n",
    "                                     transform=cartopy.crs.PlateCarree()\n",
    "                                       )\n",
    "\n",
    "    current_title = 'test_plot'\n",
    "\n",
    "    current_axes.set_position([0, 0, 1, 1])\n",
    "    current_axes.set_xlim(data_bounds[2], data_bounds[3])\n",
    "    current_axes.set_ylim(data_bounds[0], data_bounds[1])\n",
    "    current_axes.xaxis.set_visible(False)\n",
    "    current_axes.yaxis.set_visible(False)\n",
    "    return current_figure\n",
    "    \n",
    "current_figure = create_plot(data_cube, 0)"
   ]
  },
  {
   "cell_type": "code",
   "execution_count": 10,
   "metadata": {
    "pangeo-dashboard": {
     "row": 0
    }
   },
   "outputs": [
    {
     "ename": "NameError",
     "evalue": "name 'current_figure' is not defined",
     "output_type": "error",
     "traceback": [
      "\u001b[0;31m---------------------------------------------------------------------------\u001b[0m",
      "\u001b[0;31mNameError\u001b[0m                                 Traceback (most recent call last)",
      "\u001b[0;32m<ipython-input-10-5eeeb36f2e57>\u001b[0m in \u001b[0;36m<module>\u001b[0;34m()\u001b[0m\n\u001b[1;32m      1\u001b[0m \u001b[0;34m\u001b[0m\u001b[0m\n\u001b[0;32m----> 2\u001b[0;31m \u001b[0mimg_arr1\u001b[0m \u001b[0;34m=\u001b[0m \u001b[0mget_image_array_from_figure\u001b[0m\u001b[0;34m(\u001b[0m\u001b[0mcurrent_figure\u001b[0m\u001b[0;34m)\u001b[0m\u001b[0;34m\u001b[0m\u001b[0m\n\u001b[0m\u001b[1;32m      3\u001b[0m \u001b[0;34m\u001b[0m\u001b[0m\n\u001b[1;32m      4\u001b[0m \u001b[0mcur_region\u001b[0m \u001b[0;34m=\u001b[0m \u001b[0mdata_bounds\u001b[0m\u001b[0;34m\u001b[0m\u001b[0m\n\u001b[1;32m      5\u001b[0m x_limits = bokeh.models.Range1d(cur_region[2], cur_region[3],\n",
      "\u001b[0;31mNameError\u001b[0m: name 'current_figure' is not defined"
     ]
    }
   ],
   "source": [
    "\n",
    "img_arr1 = get_image_array_from_figure(current_figure)\n",
    "\n",
    "cur_region = data_bounds\n",
    "x_limits = bokeh.models.Range1d(cur_region[2], cur_region[3],\n",
    "                                bounds=(cur_region[2], cur_region[3]))\n",
    "y_limits = bokeh.models.Range1d(cur_region[0], cur_region[1],\n",
    "                                bounds=(cur_region[0], cur_region[1]))\n",
    "\n",
    "\n",
    "bokeh_figure = bokeh.plotting.figure(plot_width=800,\n",
    "                                     plot_height=600,\n",
    "                                     x_range=x_limits,\n",
    "                                     y_range=y_limits,\n",
    "                                     tools='pan,wheel_zoom,reset,save')\n",
    "\n",
    "latitude_range = cur_region[1] - cur_region[0]\n",
    "longitude_range = cur_region[3] - cur_region[2]\n",
    "dummy_img1 = numpy.zeros((300,400,4),dtype='uint8')\n",
    "# pdb.set_trace()\n",
    "bokeh_image = bokeh_figure.image_rgba(image=[img_arr1],\n",
    "                                      x=[cur_region[2]],\n",
    "                                      y=[cur_region[0]],\n",
    "                                      dw=[longitude_range],\n",
    "                                      dh=[latitude_range])\n",
    "\n",
    "mid_x = (cur_region[2] + cur_region[3]) * 0.5\n",
    "mid_y = (cur_region[0] + cur_region[1]) * 0.5\n",
    "\n",
    "bokeh_img_ds = bokeh_image.data_source\n",
    "\n",
    "bokeh_figure.title.text = 'Title...'\n",
    "main_layout = bokeh.layouts.column(bokeh_figure)\n",
    "\n",
    "\n",
    "\n",
    "update_handel = show(main_layout, notebook_handle=True)"
   ]
  },
  {
   "cell_type": "code",
   "execution_count": 11,
   "metadata": {
    "pangeo-dashboard": {
     "row": 3
    }
   },
   "outputs": [
    {
     "ename": "NameError",
     "evalue": "name 'data_cube' is not defined",
     "output_type": "error",
     "traceback": [
      "\u001b[0;31m---------------------------------------------------------------------------\u001b[0m",
      "\u001b[0;31mNameError\u001b[0m                                 Traceback (most recent call last)",
      "\u001b[0;32m<ipython-input-11-d250ae5dd250>\u001b[0m in \u001b[0;36m<module>\u001b[0;34m()\u001b[0m\n\u001b[1;32m      1\u001b[0m \u001b[0;32mfrom\u001b[0m \u001b[0mipywidgets\u001b[0m \u001b[0;32mimport\u001b[0m \u001b[0mwidgets\u001b[0m\u001b[0;34m\u001b[0m\u001b[0m\n\u001b[1;32m      2\u001b[0m \u001b[0;32mfrom\u001b[0m \u001b[0mIPython\u001b[0m\u001b[0;34m.\u001b[0m\u001b[0mdisplay\u001b[0m \u001b[0;32mimport\u001b[0m \u001b[0mdisplay\u001b[0m\u001b[0;34m\u001b[0m\u001b[0m\n\u001b[0;32m----> 3\u001b[0;31m \u001b[0mtimes\u001b[0m \u001b[0;34m=\u001b[0m \u001b[0;34m{\u001b[0m\u001b[0mstr\u001b[0m\u001b[0;34m(\u001b[0m\u001b[0mdatetime\u001b[0m\u001b[0;34m.\u001b[0m\u001b[0mdatetime\u001b[0m\u001b[0;34m.\u001b[0m\u001b[0mfromtimestamp\u001b[0m\u001b[0;34m(\u001b[0m\u001b[0mp\u001b[0m \u001b[0;34m*\u001b[0m \u001b[0;36m60\u001b[0m \u001b[0;34m*\u001b[0m \u001b[0;36m60\u001b[0m\u001b[0;34m)\u001b[0m\u001b[0;34m)\u001b[0m \u001b[0;34m:\u001b[0m  \u001b[0mi\u001b[0m \u001b[0;32mfor\u001b[0m \u001b[0mi\u001b[0m\u001b[0;34m,\u001b[0m\u001b[0mp\u001b[0m \u001b[0;32min\u001b[0m \u001b[0menumerate\u001b[0m\u001b[0;34m(\u001b[0m\u001b[0mdata_cube\u001b[0m\u001b[0;34m.\u001b[0m\u001b[0mcoord\u001b[0m\u001b[0;34m(\u001b[0m\u001b[0;34m'time'\u001b[0m\u001b[0;34m)\u001b[0m\u001b[0;34m.\u001b[0m\u001b[0mpoints\u001b[0m\u001b[0;34m)\u001b[0m\u001b[0;34m}\u001b[0m\u001b[0;34m\u001b[0m\u001b[0m\n\u001b[0m\u001b[1;32m      4\u001b[0m \u001b[0mdropdown\u001b[0m \u001b[0;34m=\u001b[0m \u001b[0mwidgets\u001b[0m\u001b[0;34m.\u001b[0m\u001b[0mDropdown\u001b[0m\u001b[0;34m(\u001b[0m\u001b[0moptions\u001b[0m\u001b[0;34m=\u001b[0m\u001b[0mtimes\u001b[0m\u001b[0;34m)\u001b[0m\u001b[0;34m\u001b[0m\u001b[0m\n\u001b[1;32m      5\u001b[0m \u001b[0mx\u001b[0m \u001b[0;34m=\u001b[0m \u001b[0;34m[\u001b[0m\u001b[0;34m]\u001b[0m\u001b[0;34m\u001b[0m\u001b[0m\n",
      "\u001b[0;31mNameError\u001b[0m: name 'data_cube' is not defined"
     ]
    }
   ],
   "source": [
    "from ipywidgets import widgets\n",
    "from IPython.display import display\n",
    "times = {str(datetime.datetime.fromtimestamp(p * 60 * 60)) :  i for i,p in enumerate(data_cube.coord('time').points)}\n",
    "dropdown = widgets.Dropdown(options=times)\n",
    "x = []\n",
    "def ishow(change):\n",
    "    if change['type'] == 'change' and change['name'] == 'value':\n",
    "        index = change['new']\n",
    "        img = get_image_array_from_figure(create_plot(data_cube, index))\n",
    "        data = bokeh_img_ds.data\n",
    "        bokeh_img_ds.data = dic(\n",
    "            x=data['x'],\n",
    "            y=data['y'],\n",
    "            dw=data['dw'],\n",
    "            dh=data['dh'],\n",
    "            image=[img])\n",
    "        print('new image')\n",
    "        push_notebook(handle=update_handel)\n",
    "    \n",
    "dropdown.observe(ishow)\n",
    "display(dropdown)"
   ]
  }
 ],
 "metadata": {
  "kernelspec": {
   "display_name": "Python 3",
   "language": "python",
   "name": "python3"
  },
  "language_info": {
   "codemirror_mode": {
    "name": "ipython",
    "version": 3
   },
   "file_extension": ".py",
   "mimetype": "text/x-python",
   "name": "python",
   "nbconvert_exporter": "python",
   "pygments_lexer": "ipython3",
   "version": "3.6.4"
  }
 },
 "nbformat": 4,
 "nbformat_minor": 2
}
